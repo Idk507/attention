{
 "cells": [
  {
   "cell_type": "code",
   "execution_count": 14,
   "metadata": {},
   "outputs": [],
   "source": [
    "import numpy as np \n",
    "import torch \n",
    "import torch.nn as nn\n",
    "import torch.optim as optim\n",
    "import torch.nn.functional as F\n",
    "import math"
   ]
  },
  {
   "cell_type": "code",
   "execution_count": 3,
   "metadata": {},
   "outputs": [
    {
     "name": "stdout",
     "output_type": "stream",
     "text": [
      "tensor([[[ 0.2309,  0.3735,  0.1614,  ..., -0.4675, -0.1050, -0.0766],\n",
      "         [-2.2628, -0.6283, -0.6507,  ..., -0.6733, -0.4983,  1.3225],\n",
      "         [ 1.2907, -0.0922,  1.5088,  ...,  0.3831, -0.0552, -0.3952],\n",
      "         [-0.4560, -0.5536,  1.4352,  ...,  0.5841,  0.2999,  0.8142]]])\n"
     ]
    }
   ],
   "source": [
    "sequence_length = 4 \n",
    "batch_size =1 \n",
    "input_dim = 512\n",
    "d_model = 512 \n",
    "x = torch.randn((batch_size,sequence_length,input_dim))\n",
    "print(x)"
   ]
  },
  {
   "cell_type": "code",
   "execution_count": 4,
   "metadata": {},
   "outputs": [
    {
     "data": {
      "text/plain": [
       "torch.Size([1, 4, 512])"
      ]
     },
     "execution_count": 4,
     "metadata": {},
     "output_type": "execute_result"
    }
   ],
   "source": [
    "x.shape"
   ]
  },
  {
   "cell_type": "code",
   "execution_count": 5,
   "metadata": {},
   "outputs": [
    {
     "data": {
      "text/plain": [
       "Linear(in_features=512, out_features=1536, bias=True)"
      ]
     },
     "execution_count": 5,
     "metadata": {},
     "output_type": "execute_result"
    }
   ],
   "source": [
    "qkv_layer = nn.Linear(input_dim,3*d_model)\n",
    "qkv_layer"
   ]
  },
  {
   "cell_type": "code",
   "execution_count": 6,
   "metadata": {},
   "outputs": [],
   "source": [
    "qkv = qkv_layer(x)"
   ]
  },
  {
   "cell_type": "code",
   "execution_count": 7,
   "metadata": {},
   "outputs": [
    {
     "data": {
      "text/plain": [
       "tensor([[[ 0.3001,  0.7721, -0.2460,  ...,  0.7420,  0.3374, -0.1398],\n",
       "         [ 0.1775, -0.9231, -0.8917,  ..., -0.1483, -0.1635, -0.2726],\n",
       "         [-0.0896, -0.1577, -0.7327,  ...,  0.1006, -0.4323, -0.4967],\n",
       "         [ 0.0117,  1.1440,  0.9358,  ..., -0.3984, -0.6591,  0.7558]]],\n",
       "       grad_fn=<ViewBackward0>)"
      ]
     },
     "execution_count": 7,
     "metadata": {},
     "output_type": "execute_result"
    }
   ],
   "source": [
    "qkv"
   ]
  },
  {
   "cell_type": "code",
   "execution_count": 8,
   "metadata": {},
   "outputs": [
    {
     "data": {
      "text/plain": [
       "torch.Size([1, 4, 1536])"
      ]
     },
     "execution_count": 8,
     "metadata": {},
     "output_type": "execute_result"
    }
   ],
   "source": [
    "qkv.shape"
   ]
  },
  {
   "cell_type": "code",
   "execution_count": 9,
   "metadata": {},
   "outputs": [
    {
     "data": {
      "text/plain": [
       "Text(0.5, 1.0, 'qkv_distribution')"
      ]
     },
     "execution_count": 9,
     "metadata": {},
     "output_type": "execute_result"
    },
    {
     "data": {
      "image/png": "[encoded data removed]",
      "text/plain": [
       "<Figure size 640x480 with 1 Axes>"
      ]
     },
     "metadata": {},
     "output_type": "display_data"
    }
   ],
   "source": [
    "import matplotlib.pyplot as plt \n",
    "\n",
    "y_val = torch.histc(qkv,bins=200,min=3,max=3)\n",
    "x_val = np.arange(-1,1,0.01)*3\n",
    "plt.bar(x_val,y_val,align='center')\n",
    "plt.title('qkv_distribution')"
   ]
  },
  {
   "cell_type": "code",
   "execution_count": 11,
   "metadata": {},
   "outputs": [
    {
     "data": {
      "text/plain": [
       "tensor([[[[ 0.3001,  0.7721, -0.2460,  ..., -0.0321,  0.0878, -0.8277],\n",
       "          [ 0.4374,  0.3018,  0.1845,  ..., -0.2339, -1.2924,  0.2076],\n",
       "          [-0.8966, -0.3262, -0.2030,  ..., -0.7290, -0.2542,  0.3987],\n",
       "          ...,\n",
       "          [ 1.1106, -0.6505, -0.1613,  ...,  0.6464,  1.0916,  0.5195],\n",
       "          [ 0.1338,  0.1364, -0.0920,  ..., -0.3930, -0.2792, -0.0622],\n",
       "          [ 0.2671, -0.0822,  0.3750,  ...,  0.7420,  0.3374, -0.1398]],\n",
       "\n",
       "         [[ 0.1775, -0.9231, -0.8917,  ..., -0.2862, -0.1096,  0.5222],\n",
       "          [-1.1022,  0.0986, -0.4443,  ..., -0.3518, -0.5326,  0.0222],\n",
       "          [-0.7620,  0.7172,  0.3349,  ...,  1.2961,  0.4170,  0.6937],\n",
       "          ...,\n",
       "          [ 0.0844,  0.4856, -0.5529,  ..., -0.4811, -0.3288,  0.0064],\n",
       "          [ 0.3867, -0.3526,  0.0635,  ..., -0.1387,  1.3105,  0.6276],\n",
       "          [-0.6164,  0.3254,  0.5097,  ..., -0.1483, -0.1635, -0.2726]],\n",
       "\n",
       "         [[-0.0896, -0.1577, -0.7327,  ..., -0.7157,  0.3648,  0.5498],\n",
       "          [-0.5974,  0.6431,  0.3058,  ...,  0.2793, -0.9248, -0.4890],\n",
       "          [-0.8260,  0.1493,  0.6872,  ...,  0.0928,  0.2568, -1.0538],\n",
       "          ...,\n",
       "          [-0.4981, -1.3073, -0.7824,  ..., -0.3880,  0.7214, -0.2219],\n",
       "          [-0.6810, -0.5690,  0.3956,  ...,  0.3477,  0.5327,  0.0881],\n",
       "          [-0.8686,  0.0087, -0.5456,  ...,  0.1006, -0.4323, -0.4967]],\n",
       "\n",
       "         [[ 0.0117,  1.1440,  0.9358,  ...,  0.5372,  0.4501,  1.0300],\n",
       "          [-0.4548,  0.5430, -0.2122,  ...,  0.2722,  0.0939, -0.7537],\n",
       "          [-0.5125, -0.9619, -0.5344,  ...,  0.4544, -0.8829,  0.0313],\n",
       "          ...,\n",
       "          [-0.7437, -0.3487, -0.5337,  ...,  0.3395,  1.0264,  0.4038],\n",
       "          [-0.7019,  1.2089,  0.5712,  ...,  1.1245, -0.0451, -0.1784],\n",
       "          [ 0.2310,  0.3671,  0.5351,  ..., -0.3984, -0.6591,  0.7558]]]],\n",
       "       grad_fn=<ViewBackward0>)"
      ]
     },
     "execution_count": 11,
     "metadata": {},
     "output_type": "execute_result"
    }
   ],
   "source": [
    "num_heads = 8\n",
    "head_dim = d_model // num_heads\n",
    "\n",
    "qkv = qkv.reshape(batch_size,sequence_length,num_heads,3* head_dim)\n",
    "qkv"
   ]
  },
  {
   "cell_type": "code",
   "execution_count": 12,
   "metadata": {},
   "outputs": [
    {
     "data": {
      "text/plain": [
       "torch.Size([1, 4, 8, 192])"
      ]
     },
     "execution_count": 12,
     "metadata": {},
     "output_type": "execute_result"
    }
   ],
   "source": [
    "qkv.shape"
   ]
  },
  {
   "cell_type": "code",
   "execution_count": 13,
   "metadata": {},
   "outputs": [
    {
     "data": {
      "text/plain": [
       "(torch.Size([1, 4, 8, 64]),\n",
       " torch.Size([1, 4, 8, 64]),\n",
       " torch.Size([1, 4, 8, 64]))"
      ]
     },
     "execution_count": 13,
     "metadata": {},
     "output_type": "execute_result"
    }
   ],
   "source": [
    "q,k,v = qkv.chunk(3,dim=-1)\n",
    "q.shape,k.shape,v.shape"
   ]
  },
  {
   "cell_type": "code",
   "execution_count": 15,
   "metadata": {},
   "outputs": [
    {
     "data": {
      "text/plain": [
       "torch.Size([1, 4, 8, 8])"
      ]
     },
     "execution_count": 15,
     "metadata": {},
     "output_type": "execute_result"
    }
   ],
   "source": [
    "#Self Attention \n",
    "\n",
    "d_k = q.size()[-1]\n",
    "scaled = torch.matmul(q,k.transpose(-2,-1))/math.sqrt(d_k)\n",
    "scaled.shape"
   ]
  },
  {
   "cell_type": "code",
   "execution_count": 16,
   "metadata": {},
   "outputs": [
    {
     "data": {
      "text/plain": [
       "torch.Size([64, 8, 4, 1])"
      ]
     },
     "execution_count": 16,
     "metadata": {},
     "output_type": "execute_result"
    }
   ],
   "source": [
    "k.T.shape"
   ]
  },
  {
   "cell_type": "code",
   "execution_count": 19,
   "metadata": {},
   "outputs": [
    {
     "data": {
      "text/plain": [
       "tensor([[-0.3767,  0.6600],\n",
       "        [ 1.2470,  0.5032],\n",
       "        [-0.1676, -0.1463]])"
      ]
     },
     "execution_count": 19,
     "metadata": {},
     "output_type": "execute_result"
    }
   ],
   "source": [
    "y = torch.randn(2,3)\n",
    "torch.transpose(y,0,1)"
   ]
  },
  {
   "cell_type": "code",
   "execution_count": 20,
   "metadata": {},
   "outputs": [
    {
     "data": {
      "text/plain": [
       "tensor([[-0.3767,  1.2470, -0.1676],\n",
       "        [ 0.6600,  0.5032, -0.1463]])"
      ]
     },
     "execution_count": 20,
     "metadata": {},
     "output_type": "execute_result"
    }
   ],
   "source": [
    "torch.transpose(y,1,1)"
   ]
  },
  {
   "cell_type": "code",
   "execution_count": 21,
   "metadata": {},
   "outputs": [
    {
     "data": {
      "text/plain": [
       "tensor([[0., -inf, -inf, -inf, -inf, -inf, -inf, -inf],\n",
       "        [0., 0., -inf, -inf, -inf, -inf, -inf, -inf],\n",
       "        [0., 0., 0., -inf, -inf, -inf, -inf, -inf],\n",
       "        [0., 0., 0., 0., -inf, -inf, -inf, -inf],\n",
       "        [0., 0., 0., 0., 0., -inf, -inf, -inf],\n",
       "        [0., 0., 0., 0., 0., 0., -inf, -inf],\n",
       "        [0., 0., 0., 0., 0., 0., 0., -inf],\n",
       "        [0., 0., 0., 0., 0., 0., 0., 0.]])"
      ]
     },
     "execution_count": 21,
     "metadata": {},
     "output_type": "execute_result"
    }
   ],
   "source": [
    "mask = torch.full(scaled.size(),float('-inf'))\n",
    "mask = torch.triu(mask,diagonal=1)\n",
    "mask[0][1]"
   ]
  },
  {
   "cell_type": "code",
   "execution_count": 22,
   "metadata": {},
   "outputs": [
    {
     "data": {
      "text/plain": [
       "tensor([[-0.0522,    -inf,    -inf,    -inf,    -inf,    -inf,    -inf,    -inf],\n",
       "        [-0.0545, -0.2490,    -inf,    -inf,    -inf,    -inf,    -inf,    -inf],\n",
       "        [ 0.4200, -0.9517,  0.1186,    -inf,    -inf,    -inf,    -inf,    -inf],\n",
       "        [-0.0781,  0.0821,  0.3732, -0.8871,    -inf,    -inf,    -inf,    -inf],\n",
       "        [-0.2339,  0.0558,  0.0710,  0.3489,  0.3565,    -inf,    -inf,    -inf],\n",
       "        [ 0.3285,  0.4705, -0.1266, -0.2184,  0.1617,  0.3114,    -inf,    -inf],\n",
       "        [-0.9098,  0.5181, -0.0942,  0.6021,  0.3742, -0.4667, -0.2422,    -inf],\n",
       "        [ 0.2427,  0.2801, -0.5708, -0.6170, -0.6047,  0.2911,  0.3842, -0.0817]],\n",
       "       grad_fn=<SelectBackward0>)"
      ]
     },
     "execution_count": 22,
     "metadata": {},
     "output_type": "execute_result"
    }
   ],
   "source": [
    "(scaled + mask)[0][0]"
   ]
  },
  {
   "cell_type": "code",
   "execution_count": 23,
   "metadata": {},
   "outputs": [],
   "source": [
    "scaled+= mask "
   ]
  },
  {
   "cell_type": "code",
   "execution_count": 24,
   "metadata": {},
   "outputs": [
    {
     "data": {
      "text/plain": [
       "tensor([[[[-0.0522,    -inf,    -inf,    -inf,    -inf,    -inf,    -inf,\n",
       "              -inf],\n",
       "          [-0.0545, -0.2490,    -inf,    -inf,    -inf,    -inf,    -inf,\n",
       "              -inf],\n",
       "          [ 0.4200, -0.9517,  0.1186,    -inf,    -inf,    -inf,    -inf,\n",
       "              -inf],\n",
       "          [-0.0781,  0.0821,  0.3732, -0.8871,    -inf,    -inf,    -inf,\n",
       "              -inf],\n",
       "          [-0.2339,  0.0558,  0.0710,  0.3489,  0.3565,    -inf,    -inf,\n",
       "              -inf],\n",
       "          [ 0.3285,  0.4705, -0.1266, -0.2184,  0.1617,  0.3114,    -inf,\n",
       "              -inf],\n",
       "          [-0.9098,  0.5181, -0.0942,  0.6021,  0.3742, -0.4667, -0.2422,\n",
       "              -inf],\n",
       "          [ 0.2427,  0.2801, -0.5708, -0.6170, -0.6047,  0.2911,  0.3842,\n",
       "           -0.0817]],\n",
       "\n",
       "         [[ 0.6720,    -inf,    -inf,    -inf,    -inf,    -inf,    -inf,\n",
       "              -inf],\n",
       "          [-0.5773,  0.2161,    -inf,    -inf,    -inf,    -inf,    -inf,\n",
       "              -inf],\n",
       "          [-0.0213, -0.3917,  0.2849,    -inf,    -inf,    -inf,    -inf,\n",
       "              -inf],\n",
       "          [ 0.2110,  0.0128,  0.0463, -0.0166,    -inf,    -inf,    -inf,\n",
       "              -inf],\n",
       "          [-0.0697,  0.4121, -0.2918, -0.3322, -0.4864,    -inf,    -inf,\n",
       "              -inf],\n",
       "          [ 0.6024, -0.0058,  0.0725, -0.0557, -0.1647, -0.0763,    -inf,\n",
       "              -inf],\n",
       "          [ 0.1579, -0.4135,  0.0591, -0.3565, -0.0205,  0.0621, -0.2723,\n",
       "              -inf],\n",
       "          [ 0.9768,  0.2036, -0.3556, -0.3673,  0.0328, -0.1765, -0.2197,\n",
       "           -0.1732]],\n",
       "\n",
       "         [[-0.1275,    -inf,    -inf,    -inf,    -inf,    -inf,    -inf,\n",
       "              -inf],\n",
       "          [ 0.9725,  0.5969,    -inf,    -inf,    -inf,    -inf,    -inf,\n",
       "              -inf],\n",
       "          [ 0.0440, -0.3701,  0.1398,    -inf,    -inf,    -inf,    -inf,\n",
       "              -inf],\n",
       "          [ 0.0758, -0.5805,  0.0101, -0.2607,    -inf,    -inf,    -inf,\n",
       "              -inf],\n",
       "          [ 0.1259,  0.2780, -0.1882, -0.2322, -0.0582,    -inf,    -inf,\n",
       "              -inf],\n",
       "          [-0.3402,  0.0608,  0.2861,  0.0749, -0.1631, -0.3301,    -inf,\n",
       "              -inf],\n",
       "          [ 0.0244, -0.6271,  0.1126, -0.4817, -0.2956,  0.8035, -0.1475,\n",
       "              -inf],\n",
       "          [ 0.5495, -0.4923, -0.2883,  0.3046, -0.0613, -0.0492,  0.0014,\n",
       "           -0.6479]],\n",
       "\n",
       "         [[ 0.3613,    -inf,    -inf,    -inf,    -inf,    -inf,    -inf,\n",
       "              -inf],\n",
       "          [ 0.3471, -0.0192,    -inf,    -inf,    -inf,    -inf,    -inf,\n",
       "              -inf],\n",
       "          [ 0.1664, -0.0980,  0.6223,    -inf,    -inf,    -inf,    -inf,\n",
       "              -inf],\n",
       "          [-0.2126, -0.2465,  0.2672,  0.0397,    -inf,    -inf,    -inf,\n",
       "              -inf],\n",
       "          [-0.3676,  0.1105, -0.1324,  0.3957,  0.0298,    -inf,    -inf,\n",
       "              -inf],\n",
       "          [ 0.1319,  0.0791,  0.3316,  0.4866,  0.3958,  0.1437,    -inf,\n",
       "              -inf],\n",
       "          [ 0.5940, -0.1795, -0.3508,  0.3529,  0.2031,  0.3487,  0.0087,\n",
       "              -inf],\n",
       "          [-0.2992,  0.3243, -0.5792, -0.4835, -0.2410, -0.0892, -0.3120,\n",
       "            0.0593]]]], grad_fn=<AddBackward0>)"
      ]
     },
     "execution_count": 24,
     "metadata": {},
     "output_type": "execute_result"
    }
   ],
   "source": [
    "scaled"
   ]
  },
  {
   "cell_type": "code",
   "execution_count": 25,
   "metadata": {},
   "outputs": [
    {
     "data": {
      "text/plain": [
       "0.5272281003462925"
      ]
     },
     "execution_count": 25,
     "metadata": {},
     "output_type": "execute_result"
    }
   ],
   "source": [
    "np.exp(0.5596)/ (np.exp(0.5996) + np.exp(0.404))"
   ]
  },
  {
   "cell_type": "code",
   "execution_count": 27,
   "metadata": {},
   "outputs": [],
   "source": [
    "attention = F.softmax(scaled,dim=-1)"
   ]
  },
  {
   "cell_type": "code",
   "execution_count": 28,
   "metadata": {},
   "outputs": [
    {
     "data": {
      "text/plain": [
       "torch.Size([1, 4, 8, 8])"
      ]
     },
     "execution_count": 28,
     "metadata": {},
     "output_type": "execute_result"
    }
   ],
   "source": [
    "attention.shape"
   ]
  },
  {
   "cell_type": "code",
   "execution_count": 29,
   "metadata": {},
   "outputs": [
    {
     "data": {
      "text/plain": [
       "torch.Size([1, 4, 8, 64])"
      ]
     },
     "execution_count": 29,
     "metadata": {},
     "output_type": "execute_result"
    }
   ],
   "source": [
    "values = torch.matmul(attention,v)\n",
    "values.shape"
   ]
  },
  {
   "cell_type": "code",
   "execution_count": 30,
   "metadata": {},
   "outputs": [],
   "source": [
    "#Function \n",
    "\n",
    "def scaled_dot_product(q,k,v,mask=None):\n",
    "    d_k = q.size()[-1]\n",
    "    scaled = torch.matmul(q,k.transpose(-1,-2))/math.sqrt(d_k)\n",
    "    if mask is not None:\n",
    "        scaled += mask\n",
    "    attention = F.softmax(scaled,dim=-1)\n",
    "    values = torch.matmul(attention,v)\n",
    "    return values,attention"
   ]
  },
  {
   "cell_type": "code",
   "execution_count": 31,
   "metadata": {},
   "outputs": [],
   "source": [
    "values,attention = scaled_dot_product(q,k,v,mask=None)"
   ]
  },
  {
   "cell_type": "code",
   "execution_count": 32,
   "metadata": {},
   "outputs": [
    {
     "data": {
      "text/plain": [
       "torch.Size([1, 4, 8, 8])"
      ]
     },
     "execution_count": 32,
     "metadata": {},
     "output_type": "execute_result"
    }
   ],
   "source": [
    "attention.shape"
   ]
  },
  {
   "cell_type": "code",
   "execution_count": 34,
   "metadata": {},
   "outputs": [
    {
     "data": {
      "text/plain": [
       "tensor([[0.1272, 0.1149, 0.1051, 0.1001, 0.2207, 0.0892, 0.1132, 0.1295],\n",
       "        [0.1111, 0.0915, 0.1319, 0.2578, 0.1235, 0.0887, 0.0920, 0.1034],\n",
       "        [0.1937, 0.0491, 0.1433, 0.1719, 0.1579, 0.1282, 0.0879, 0.0679],\n",
       "        [0.1016, 0.1193, 0.1596, 0.0452, 0.1768, 0.1356, 0.0940, 0.1679],\n",
       "        [0.0902, 0.1205, 0.1223, 0.1615, 0.1627, 0.1086, 0.1371, 0.0971],\n",
       "        [0.1251, 0.1442, 0.0793, 0.0724, 0.1059, 0.1229, 0.1186, 0.2316],\n",
       "        [0.0450, 0.1876, 0.1017, 0.2041, 0.1625, 0.0701, 0.0877, 0.1413],\n",
       "        [0.1598, 0.1659, 0.0708, 0.0676, 0.0685, 0.1677, 0.1841, 0.1155]],\n",
       "       grad_fn=<SelectBackward0>)"
      ]
     },
     "execution_count": 34,
     "metadata": {},
     "output_type": "execute_result"
    }
   ],
   "source": [
    "attention[0][0]"
   ]
  },
  {
   "cell_type": "code",
   "execution_count": 35,
   "metadata": {},
   "outputs": [
    {
     "data": {
      "text/plain": [
       "torch.Size([1, 4, 8, 64])"
      ]
     },
     "execution_count": 35,
     "metadata": {},
     "output_type": "execute_result"
    }
   ],
   "source": [
    "values.size()"
   ]
  },
  {
   "cell_type": "code",
   "execution_count": null,
   "metadata": {},
   "outputs": [
    {
     "data": {
      "text/plain": [
       "torch.Size([1, 4, 8, 64])"
      ]
     },
     "metadata": {},
     "output_type": "display_data"
    }
   ],
   "source": [
    "values.size()"
   ]
  },
  {
   "cell_type": "code",
   "execution_count": null,
   "metadata": {},
   "outputs": [
    {
     "data": {
      "text/plain": [
       "torch.Size([1, 4, 8, 64])"
      ]
     },
     "metadata": {},
     "output_type": "display_data"
    }
   ],
   "source": [
    "values.size()"
   ]
  },
  {
   "cell_type": "code",
   "execution_count": 37,
   "metadata": {},
   "outputs": [
    {
     "data": {
      "text/plain": [
       "torch.Size([1, 4, 512])"
      ]
     },
     "execution_count": 37,
     "metadata": {},
     "output_type": "execute_result"
    }
   ],
   "source": [
    "values = values.reshape(batch_size,sequence_length,num_heads*head_dim)\n",
    "values.size()"
   ]
  },
  {
   "cell_type": "code",
   "execution_count": 45,
   "metadata": {},
   "outputs": [],
   "source": [
    "class MultiheadAttention(nn.Module):\n",
    "    def __init__(self,input_dim,d_model,num_heads):\n",
    "        super().__init__()\n",
    "        self.input_dim=input_dim\n",
    "        self.d_model=d_model\n",
    "        self.num_heads = num_heads\n",
    "        self.head_dim = d_model // num_heads\n",
    "        self.qkv_model = nn.Linear(input_dim,3*d_model)\n",
    "        self.linear_layer = nn.Linear(d_model,d_model)\n",
    "    \n",
    "    def forward(self,x,mask=None):\n",
    "        batch_size,sequence_length,input_dim = x.size()\n",
    "        print(f\"x.size():{x.size()}\")\n",
    "        qkv = self.qkv_model(x)\n",
    "        print(f\"qkv.size(): {qkv.size()}\")\n",
    "        qkv = qkv.reshape(batch_size,sequence_length,self.num_heads,3*self.head_dim)\n",
    "        print(f\"qkv.size(): {qkv.size()}\")\n",
    "        qkv = qkv.permute(0,2,1,3)\n",
    "        print(f\"qkv.size(): {qkv.size()}\")\n",
    "        q,k,v = qkv.chunk(3,dim=-1)\n",
    "        print(f\"q.size(): {q.size()}\")\n",
    "        print(f\"k.size(): {k.size()}\")\n",
    "        print(f\"v.size(): {v.size()}\")\n",
    "        values,attention = scaled_dot_product(q,k,v,mask)\n",
    "        print(f\"values.size(): {values.size()}\")\n",
    "        values = values.transpose(1,2).contiguous().view(batch_size,sequence_length,self.d_model)\n",
    "        #values = values.reshape(batch_size,sequence_length,self.num_heads,self.head_dim)\n",
    "        print(f\"values.size(): {values.size()}\")\n",
    "        out = self.linear_layer(values)\n",
    "        print(f\"out.size(): {out.size()}\")\n",
    "        return out\n"
   ]
  },
  {
   "cell_type": "code",
   "execution_count": 46,
   "metadata": {},
   "outputs": [],
   "source": [
    "#Input \n",
    "\n",
    "input_dim = 1024 \n",
    "d_model = 512 \n",
    "num_heads = 8\n",
    "\n",
    "batch_size = 30 \n",
    "sequence_length = 5\n",
    "x = torch.randn((batch_size,sequence_length,input_dim))\n",
    "\n",
    "model = MultiheadAttention(input_dim,d_model,num_heads)"
   ]
  },
  {
   "cell_type": "code",
   "execution_count": 47,
   "metadata": {},
   "outputs": [
    {
     "name": "stdout",
     "output_type": "stream",
     "text": [
      "x.size():torch.Size([30, 5, 1024])\n",
      "qkv.size(): torch.Size([30, 5, 1536])\n",
      "qkv.size(): torch.Size([30, 5, 8, 192])\n",
      "qkv.size(): torch.Size([30, 8, 5, 192])\n",
      "q.size(): torch.Size([30, 8, 5, 64])\n",
      "k.size(): torch.Size([30, 8, 5, 64])\n",
      "v.size(): torch.Size([30, 8, 5, 64])\n",
      "values.size(): torch.Size([30, 8, 5, 64])\n",
      "values.size(): torch.Size([30, 5, 512])\n",
      "out.size(): torch.Size([30, 5, 512])\n"
     ]
    }
   ],
   "source": [
    "out = model.forward(x)"
   ]
  },
  {
   "cell_type": "code",
   "execution_count": null,
   "metadata": {},
   "outputs": [],
   "source": []
  }
 ],
 "metadata": {
  "kernelspec": {
   "display_name": "lm_python",
   "language": "python",
   "name": "python3"
  },
  "language_info": {
   "codemirror_mode": {
    "name": "ipython",
    "version": 3
   },
   "file_extension": ".py",
   "mimetype": "text/x-python",
   "name": "python",
   "nbconvert_exporter": "python",
   "pygments_lexer": "ipython3",
   "version": "3.10.14"
  }
 },
 "nbformat": 4,
 "nbformat_minor": 2
}
